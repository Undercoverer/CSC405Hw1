{
 "cells": [
  {
   "cell_type": "markdown",
   "id": "86347be6",
   "metadata": {},
   "source": [
    "# Data Analysis Homework 1: Pandas and Numpy"
   ]
  },
  {
   "cell_type": "markdown",
   "id": "2433dbfe",
   "metadata": {},
   "source": [
    "Objective: The aim of this assignment is to demonstrate your proficiency in using Jupyter Notebook, IPython, GitHub, and particularly the Pandas library for data analysis."
   ]
  },
  {
   "cell_type": "markdown",
   "id": "734ee943",
   "metadata": {},
   "source": [
    "### Requirements"
   ]
  },
  {
   "cell_type": "markdown",
   "id": "e3ef1494",
   "metadata": {},
   "source": [
    "- Create a new Jupyter Notebook. Import all necessary libraries. Initialize a new GitHub repository. Commit your Jupyter Notebook and datasets to this repository. (10 points)\n",
    "- Write a brief summary of your findings. Add comments and Markdown cells in your Jupyter Notebook to explain your code and results. (10 points)"
   ]
  },
  {
   "cell_type": "markdown",
   "id": "dc6ffe76",
   "metadata": {},
   "source": [
    "### Submission Guidelines "
   ]
  },
  {
   "cell_type": "markdown",
   "id": "0d88866f",
   "metadata": {},
   "source": [
    "- Submit the GitHub repository link containing your Jupyter Notebook and datasets.\n",
    "- Ensure that your code is clean, well-commented, and easily understandable."
   ]
  },
  {
   "cell_type": "code",
   "execution_count": 12,
   "id": "703f7bbe",
   "metadata": {
    "ExecuteTime": {
     "end_time": "2023-09-07T22:38:12.206607740Z",
     "start_time": "2023-09-07T22:38:12.127535648Z"
    }
   },
   "outputs": [],
   "source": [
    "import this\n",
    "\n",
    "import numpy as np\n",
    "import pandas as pd"
   ]
  },
  {
   "cell_type": "markdown",
   "id": "84551481",
   "metadata": {},
   "source": [
    "Q1(30 point): \n",
    "Implement a class for n-sided polygons and a class for points in a Euclidean system, namely *polygon* and *point* respectively. For example, a 4-sided polygon can be defined by 4 points P1, P2, P3, P4, and\n",
    "P1-P4 are each points of the form point(X,Y), and X and Y are coordinates on the X and Y axis, respectively. The edges are listed counterclockwise starting at the lower left: P1 to P2, P2 to P3, P3 to P4, and P4 to P1.  The polygon class should work for polygons of any number of edges and have a function perimeter that returns its perimeter (sum of the lengths of the edges).  (20points)\n",
    "\n",
    "Hint: use the Pythagorian theorem: if a line segment Z starts at (X1,Y1) and ends at (X2, Y2), the length of Z is the square root of (X1-X2)^2 + (Y1-Y2)^2. \n",
    "\n",
    "Example:\n",
    "The perimeter of the polygon/triangle on point(1,1), point(1,2), and point(2,2) is 3.4;\n",
    "The perimeter of the 4-sided polygon on point(2,1), point(2,3), point(6,3), and point(4,1) is 10.8;\n",
    "print out these two examples. (10points)"
   ]
  },
  {
   "cell_type": "code",
   "execution_count": 13,
   "id": "a848c996",
   "metadata": {
    "ExecuteTime": {
     "end_time": "2023-09-07T22:38:12.226170248Z",
     "start_time": "2023-09-07T22:38:12.134830257Z"
    }
   },
   "outputs": [
    {
     "name": "stdout",
     "output_type": "stream",
     "text": [
      "Example 1: 3.414213562373095\n",
      "Example 2: 10.82842712474619\n"
     ]
    }
   ],
   "source": [
    "import math\n",
    "\n",
    "\n",
    "class Point:\n",
    "    def __init__(self, x, y):\n",
    "        self.x = x\n",
    "        self.y = y\n",
    "\n",
    "    def euclidian_distance(self, other):\n",
    "        return math.sqrt((self.x - other.x) ** 2 + (self.y - other.y) ** 2)\n",
    "\n",
    "\n",
    "class Polygon:\n",
    "    def __init__(self, points: list[Point]):\n",
    "        self.points = points\n",
    "\n",
    "    def perimeter(self):\n",
    "        perimeter_sum = 0\n",
    "        point_count = len(self.points)\n",
    "        for i in range(0, point_count):\n",
    "            perimeter_sum += self.points[i].euclidian_distance(self.points[(i + 1) % point_count])\n",
    "        return perimeter_sum\n",
    "\n",
    "\n",
    "# EXAMPLES\n",
    "\n",
    "example1 = Polygon([Point(1, 1), Point(1, 2), Point(2, 2)])\n",
    "print(f\"Example 1: {example1.perimeter()}\")\n",
    "\n",
    "example2 = Polygon([Point(2, 1), Point(2, 3), Point(6, 3), Point(4, 1)])\n",
    "print(f\"Example 2: {example2.perimeter()}\")"
   ]
  },
  {
   "cell_type": "markdown",
   "id": "fa5a8c92",
   "metadata": {},
   "source": [
    "Q2(50 point):\n",
    "- Use Pandas to load both data/AIS/transit_segments.csv, and data/AIS/vessel_information.csv. Show the first 5 rows of each dataset to inspect it.(10points)\n",
    "- For data/AIS/vessel_information.csv, keep only those rows with the type value occurring for at least 100 times in the dataset. (10points)\n",
    "- Merge data/AIS/vessel_information.csv and data/AIS/transit_segments.csv on the \"mmsi\" column using outer join. (10points)\n",
    "- If you are *not* allowed to call the inner join provided by Pandas but have the above outer join results, how to get the results of inner join? You can use other functions provided by Pandas (but not a function that directly implements the inner join). (10points)\n",
    "- Now directly call the inner join provided by Pandas, check whether your results above are exactly the same.(10points)"
   ]
  },
  {
   "cell_type": "markdown",
   "source": [
    "\n",
    "\n",
    "\n",
    "\n",
    "Load the CSV files"
   ],
   "metadata": {
    "collapsed": false
   },
   "id": "89c825283a098b34"
  },
  {
   "cell_type": "code",
   "execution_count": 14,
   "id": "83a7b417",
   "metadata": {
    "ExecuteTime": {
     "end_time": "2023-09-07T22:38:12.501400935Z",
     "start_time": "2023-09-07T22:38:12.136452136Z"
    }
   },
   "outputs": [],
   "source": [
    "transit_segments = pd.read_csv(\"data/AIS/transit_segments.csv\")\n",
    "vessel_information = pd.read_csv(\"data/AIS/vessel_information.csv\")"
   ]
  },
  {
   "cell_type": "markdown",
   "source": [
    "Print out the first 5 rows in each dataframe"
   ],
   "metadata": {
    "collapsed": false
   },
   "id": "82d5235fd6eff110"
  },
  {
   "cell_type": "code",
   "execution_count": 15,
   "outputs": [
    {
     "data": {
      "text/plain": "   mmsi               name  transit  segment  seg_length  avg_sog  min_sog  \\\n0     1        Us Govt Ves        1        1         5.1     13.2      9.2   \n1     1  Dredge Capt Frank        1        1        13.5     18.6     10.4   \n2     1      Us Gov Vessel        1        1         4.3     16.2     10.3   \n3     1      Us Gov Vessel        2        1         9.2     15.4     14.5   \n4     1  Dredge Capt Frank        2        1         9.2     15.4     14.6   \n\n   max_sog  pdgt10        st_time       end_time  \n0     14.5    96.5  2/10/09 16:03  2/10/09 16:27  \n1     20.6   100.0   4/6/09 14:31   4/6/09 15:20  \n2     20.5   100.0   4/6/09 14:36   4/6/09 14:55  \n3     16.1   100.0  4/10/09 17:58  4/10/09 18:34  \n4     16.2   100.0  4/10/09 17:59  4/10/09 18:35  ",
      "text/html": "<div>\n<style scoped>\n    .dataframe tbody tr th:only-of-type {\n        vertical-align: middle;\n    }\n\n    .dataframe tbody tr th {\n        vertical-align: top;\n    }\n\n    .dataframe thead th {\n        text-align: right;\n    }\n</style>\n<table border=\"1\" class=\"dataframe\">\n  <thead>\n    <tr style=\"text-align: right;\">\n      <th></th>\n      <th>mmsi</th>\n      <th>name</th>\n      <th>transit</th>\n      <th>segment</th>\n      <th>seg_length</th>\n      <th>avg_sog</th>\n      <th>min_sog</th>\n      <th>max_sog</th>\n      <th>pdgt10</th>\n      <th>st_time</th>\n      <th>end_time</th>\n    </tr>\n  </thead>\n  <tbody>\n    <tr>\n      <th>0</th>\n      <td>1</td>\n      <td>Us Govt Ves</td>\n      <td>1</td>\n      <td>1</td>\n      <td>5.1</td>\n      <td>13.2</td>\n      <td>9.2</td>\n      <td>14.5</td>\n      <td>96.5</td>\n      <td>2/10/09 16:03</td>\n      <td>2/10/09 16:27</td>\n    </tr>\n    <tr>\n      <th>1</th>\n      <td>1</td>\n      <td>Dredge Capt Frank</td>\n      <td>1</td>\n      <td>1</td>\n      <td>13.5</td>\n      <td>18.6</td>\n      <td>10.4</td>\n      <td>20.6</td>\n      <td>100.0</td>\n      <td>4/6/09 14:31</td>\n      <td>4/6/09 15:20</td>\n    </tr>\n    <tr>\n      <th>2</th>\n      <td>1</td>\n      <td>Us Gov Vessel</td>\n      <td>1</td>\n      <td>1</td>\n      <td>4.3</td>\n      <td>16.2</td>\n      <td>10.3</td>\n      <td>20.5</td>\n      <td>100.0</td>\n      <td>4/6/09 14:36</td>\n      <td>4/6/09 14:55</td>\n    </tr>\n    <tr>\n      <th>3</th>\n      <td>1</td>\n      <td>Us Gov Vessel</td>\n      <td>2</td>\n      <td>1</td>\n      <td>9.2</td>\n      <td>15.4</td>\n      <td>14.5</td>\n      <td>16.1</td>\n      <td>100.0</td>\n      <td>4/10/09 17:58</td>\n      <td>4/10/09 18:34</td>\n    </tr>\n    <tr>\n      <th>4</th>\n      <td>1</td>\n      <td>Dredge Capt Frank</td>\n      <td>2</td>\n      <td>1</td>\n      <td>9.2</td>\n      <td>15.4</td>\n      <td>14.6</td>\n      <td>16.2</td>\n      <td>100.0</td>\n      <td>4/10/09 17:59</td>\n      <td>4/10/09 18:35</td>\n    </tr>\n  </tbody>\n</table>\n</div>"
     },
     "execution_count": 15,
     "metadata": {},
     "output_type": "execute_result"
    }
   ],
   "source": [
    "transit_segments.head()"
   ],
   "metadata": {
    "collapsed": false,
    "ExecuteTime": {
     "end_time": "2023-09-07T22:38:12.502748890Z",
     "start_time": "2023-09-07T22:38:12.501095265Z"
    }
   },
   "id": "3ad0a269127123a1"
  },
  {
   "cell_type": "code",
   "execution_count": 16,
   "outputs": [
    {
     "data": {
      "text/plain": "   mmsi  num_names                                              names sov  \\\n0     1          8  Bil Holman Dredge/Dredge Capt Frank/Emo/Offsho...   Y   \n1     9          3                         000000009/Raven/Shearwater   N   \n2    21          1                                      Us Gov Vessel   Y   \n3    74          2                                  Mcfaul/Sarah Bell   N   \n4   103          3           Ron G/Us Navy Warship 103/Us Warship 103   Y   \n\n      flag flag_type  num_loas                                    loa  \\\n0  Unknown   Unknown         7  42.0/48.0/57.0/90.0/138.0/154.0/156.0   \n1  Unknown   Unknown         2                              50.0/62.0   \n2  Unknown   Unknown         1                                  208.0   \n3  Unknown   Unknown         1                                  155.0   \n4  Unknown   Unknown         2                             26.0/155.0   \n\n   max_loa  num_types                             type  \n0    156.0          4  Dredging/MilOps/Reserved/Towing  \n1     62.0          2                     Pleasure/Tug  \n2    208.0          1                          Unknown  \n3    155.0          1                          Unknown  \n4    155.0          2                   Tanker/Unknown  ",
      "text/html": "<div>\n<style scoped>\n    .dataframe tbody tr th:only-of-type {\n        vertical-align: middle;\n    }\n\n    .dataframe tbody tr th {\n        vertical-align: top;\n    }\n\n    .dataframe thead th {\n        text-align: right;\n    }\n</style>\n<table border=\"1\" class=\"dataframe\">\n  <thead>\n    <tr style=\"text-align: right;\">\n      <th></th>\n      <th>mmsi</th>\n      <th>num_names</th>\n      <th>names</th>\n      <th>sov</th>\n      <th>flag</th>\n      <th>flag_type</th>\n      <th>num_loas</th>\n      <th>loa</th>\n      <th>max_loa</th>\n      <th>num_types</th>\n      <th>type</th>\n    </tr>\n  </thead>\n  <tbody>\n    <tr>\n      <th>0</th>\n      <td>1</td>\n      <td>8</td>\n      <td>Bil Holman Dredge/Dredge Capt Frank/Emo/Offsho...</td>\n      <td>Y</td>\n      <td>Unknown</td>\n      <td>Unknown</td>\n      <td>7</td>\n      <td>42.0/48.0/57.0/90.0/138.0/154.0/156.0</td>\n      <td>156.0</td>\n      <td>4</td>\n      <td>Dredging/MilOps/Reserved/Towing</td>\n    </tr>\n    <tr>\n      <th>1</th>\n      <td>9</td>\n      <td>3</td>\n      <td>000000009/Raven/Shearwater</td>\n      <td>N</td>\n      <td>Unknown</td>\n      <td>Unknown</td>\n      <td>2</td>\n      <td>50.0/62.0</td>\n      <td>62.0</td>\n      <td>2</td>\n      <td>Pleasure/Tug</td>\n    </tr>\n    <tr>\n      <th>2</th>\n      <td>21</td>\n      <td>1</td>\n      <td>Us Gov Vessel</td>\n      <td>Y</td>\n      <td>Unknown</td>\n      <td>Unknown</td>\n      <td>1</td>\n      <td>208.0</td>\n      <td>208.0</td>\n      <td>1</td>\n      <td>Unknown</td>\n    </tr>\n    <tr>\n      <th>3</th>\n      <td>74</td>\n      <td>2</td>\n      <td>Mcfaul/Sarah Bell</td>\n      <td>N</td>\n      <td>Unknown</td>\n      <td>Unknown</td>\n      <td>1</td>\n      <td>155.0</td>\n      <td>155.0</td>\n      <td>1</td>\n      <td>Unknown</td>\n    </tr>\n    <tr>\n      <th>4</th>\n      <td>103</td>\n      <td>3</td>\n      <td>Ron G/Us Navy Warship 103/Us Warship 103</td>\n      <td>Y</td>\n      <td>Unknown</td>\n      <td>Unknown</td>\n      <td>2</td>\n      <td>26.0/155.0</td>\n      <td>155.0</td>\n      <td>2</td>\n      <td>Tanker/Unknown</td>\n    </tr>\n  </tbody>\n</table>\n</div>"
     },
     "execution_count": 16,
     "metadata": {},
     "output_type": "execute_result"
    }
   ],
   "source": [
    "vessel_information.head()"
   ],
   "metadata": {
    "collapsed": false,
    "ExecuteTime": {
     "end_time": "2023-09-07T22:38:12.503697704Z",
     "start_time": "2023-09-07T22:38:12.501636620Z"
    }
   },
   "id": "4e6e6cc2ba3dc849"
  },
  {
   "cell_type": "markdown",
   "source": [
    "\n",
    "\n",
    "Filter out rows of elements whose types do not occur 100 or more times and print out the first 5 rows"
   ],
   "metadata": {
    "collapsed": false
   },
   "id": "3a52bbf787f92f6e"
  },
  {
   "cell_type": "code",
   "execution_count": 17,
   "outputs": [],
   "source": [
    "vessel_information = vessel_information[vessel_information.groupby('type')[\"type\"].transform(\"count\") >= 100]"
   ],
   "metadata": {
    "collapsed": false,
    "ExecuteTime": {
     "end_time": "2023-09-07T22:38:12.504127919Z",
     "start_time": "2023-09-07T22:38:12.501852444Z"
    }
   },
   "id": "4d06fe58aa505271"
  },
  {
   "cell_type": "code",
   "execution_count": 18,
   "outputs": [
    {
     "data": {
      "text/plain": "   mmsi  num_names              names sov                  flag flag_type  \\\n2    21          1      Us Gov Vessel   Y               Unknown   Unknown   \n3    74          2  Mcfaul/Sarah Bell   N               Unknown   Unknown   \n5   310          1           Arabella   N              Bermuda    Foreign   \n6  3011          1         Charleston   N             Anguilla    Foreign   \n7  4731          1          000004731   N  Yemen (Republic of)    Foreign   \n\n   num_loas    loa  max_loa  num_types     type  \n2         1  208.0    208.0          1  Unknown  \n3         1  155.0    155.0          1  Unknown  \n5         1   47.0     47.0          1  Unknown  \n6         1  160.0    160.0          1    Other  \n7         1   30.0     30.0          1  Unknown  ",
      "text/html": "<div>\n<style scoped>\n    .dataframe tbody tr th:only-of-type {\n        vertical-align: middle;\n    }\n\n    .dataframe tbody tr th {\n        vertical-align: top;\n    }\n\n    .dataframe thead th {\n        text-align: right;\n    }\n</style>\n<table border=\"1\" class=\"dataframe\">\n  <thead>\n    <tr style=\"text-align: right;\">\n      <th></th>\n      <th>mmsi</th>\n      <th>num_names</th>\n      <th>names</th>\n      <th>sov</th>\n      <th>flag</th>\n      <th>flag_type</th>\n      <th>num_loas</th>\n      <th>loa</th>\n      <th>max_loa</th>\n      <th>num_types</th>\n      <th>type</th>\n    </tr>\n  </thead>\n  <tbody>\n    <tr>\n      <th>2</th>\n      <td>21</td>\n      <td>1</td>\n      <td>Us Gov Vessel</td>\n      <td>Y</td>\n      <td>Unknown</td>\n      <td>Unknown</td>\n      <td>1</td>\n      <td>208.0</td>\n      <td>208.0</td>\n      <td>1</td>\n      <td>Unknown</td>\n    </tr>\n    <tr>\n      <th>3</th>\n      <td>74</td>\n      <td>2</td>\n      <td>Mcfaul/Sarah Bell</td>\n      <td>N</td>\n      <td>Unknown</td>\n      <td>Unknown</td>\n      <td>1</td>\n      <td>155.0</td>\n      <td>155.0</td>\n      <td>1</td>\n      <td>Unknown</td>\n    </tr>\n    <tr>\n      <th>5</th>\n      <td>310</td>\n      <td>1</td>\n      <td>Arabella</td>\n      <td>N</td>\n      <td>Bermuda</td>\n      <td>Foreign</td>\n      <td>1</td>\n      <td>47.0</td>\n      <td>47.0</td>\n      <td>1</td>\n      <td>Unknown</td>\n    </tr>\n    <tr>\n      <th>6</th>\n      <td>3011</td>\n      <td>1</td>\n      <td>Charleston</td>\n      <td>N</td>\n      <td>Anguilla</td>\n      <td>Foreign</td>\n      <td>1</td>\n      <td>160.0</td>\n      <td>160.0</td>\n      <td>1</td>\n      <td>Other</td>\n    </tr>\n    <tr>\n      <th>7</th>\n      <td>4731</td>\n      <td>1</td>\n      <td>000004731</td>\n      <td>N</td>\n      <td>Yemen (Republic of)</td>\n      <td>Foreign</td>\n      <td>1</td>\n      <td>30.0</td>\n      <td>30.0</td>\n      <td>1</td>\n      <td>Unknown</td>\n    </tr>\n  </tbody>\n</table>\n</div>"
     },
     "execution_count": 18,
     "metadata": {},
     "output_type": "execute_result"
    }
   ],
   "source": [
    "vessel_information.head()"
   ],
   "metadata": {
    "collapsed": false,
    "ExecuteTime": {
     "end_time": "2023-09-07T22:38:12.504689025Z",
     "start_time": "2023-09-07T22:38:12.502234501Z"
    }
   },
   "id": "e7bb22a6c6c1e5c3"
  },
  {
   "cell_type": "markdown",
   "source": [
    "\n",
    "\n",
    "Perform an outer join on mmsi and print out the first 5 rows"
   ],
   "metadata": {
    "collapsed": false
   },
   "id": "bdf2bce08e12e06"
  },
  {
   "cell_type": "code",
   "execution_count": 19,
   "outputs": [],
   "source": [
    "mmsi_outer_join = pd.merge(vessel_information,transit_segments, on=\"mmsi\", how=\"outer\")"
   ],
   "metadata": {
    "collapsed": false,
    "ExecuteTime": {
     "end_time": "2023-09-07T22:38:12.602930415Z",
     "start_time": "2023-09-07T22:38:12.502584962Z"
    }
   },
   "id": "3c23f6ef0eb9f74a"
  },
  {
   "cell_type": "code",
   "execution_count": 20,
   "outputs": [
    {
     "data": {
      "text/plain": "   mmsi  num_names          names sov     flag flag_type  num_loas    loa  \\\n0    21        1.0  Us Gov Vessel   Y  Unknown   Unknown       1.0  208.0   \n1    21        1.0  Us Gov Vessel   Y  Unknown   Unknown       1.0  208.0   \n2    21        1.0  Us Gov Vessel   Y  Unknown   Unknown       1.0  208.0   \n3    21        1.0  Us Gov Vessel   Y  Unknown   Unknown       1.0  208.0   \n4    21        1.0  Us Gov Vessel   Y  Unknown   Unknown       1.0  208.0   \n\n   max_loa  num_types  ...           name transit  segment  seg_length  \\\n0    208.0        1.0  ...  Us Gov Vessel       2        1        48.7   \n1    208.0        1.0  ...  Us Gov Vessel       3        1        15.1   \n2    208.0        1.0  ...  Us Gov Vessel       4        1        18.0   \n3    208.0        1.0  ...  Us Gov Vessel       5        1        11.2   \n4    208.0        1.0  ...  Us Gov Vessel       6        1         5.8   \n\n   avg_sog  min_sog  max_sog  pdgt10        st_time       end_time  \n0      6.6      3.4     16.3    38.4  3/14/11 16:13   3/15/11 0:02  \n1     13.7     10.0     15.1    91.8  3/18/11 11:18  3/18/11 12:26  \n2      9.7      4.6     15.2    76.3  4/25/11 16:37  4/25/11 18:25  \n3     12.9      6.1     15.6    80.7  5/14/11 15:51  5/14/11 16:50  \n4     16.5     15.1     17.4   100.0  5/19/11 12:34  5/19/11 12:56  \n\n[5 rows x 21 columns]",
      "text/html": "<div>\n<style scoped>\n    .dataframe tbody tr th:only-of-type {\n        vertical-align: middle;\n    }\n\n    .dataframe tbody tr th {\n        vertical-align: top;\n    }\n\n    .dataframe thead th {\n        text-align: right;\n    }\n</style>\n<table border=\"1\" class=\"dataframe\">\n  <thead>\n    <tr style=\"text-align: right;\">\n      <th></th>\n      <th>mmsi</th>\n      <th>num_names</th>\n      <th>names</th>\n      <th>sov</th>\n      <th>flag</th>\n      <th>flag_type</th>\n      <th>num_loas</th>\n      <th>loa</th>\n      <th>max_loa</th>\n      <th>num_types</th>\n      <th>...</th>\n      <th>name</th>\n      <th>transit</th>\n      <th>segment</th>\n      <th>seg_length</th>\n      <th>avg_sog</th>\n      <th>min_sog</th>\n      <th>max_sog</th>\n      <th>pdgt10</th>\n      <th>st_time</th>\n      <th>end_time</th>\n    </tr>\n  </thead>\n  <tbody>\n    <tr>\n      <th>0</th>\n      <td>21</td>\n      <td>1.0</td>\n      <td>Us Gov Vessel</td>\n      <td>Y</td>\n      <td>Unknown</td>\n      <td>Unknown</td>\n      <td>1.0</td>\n      <td>208.0</td>\n      <td>208.0</td>\n      <td>1.0</td>\n      <td>...</td>\n      <td>Us Gov Vessel</td>\n      <td>2</td>\n      <td>1</td>\n      <td>48.7</td>\n      <td>6.6</td>\n      <td>3.4</td>\n      <td>16.3</td>\n      <td>38.4</td>\n      <td>3/14/11 16:13</td>\n      <td>3/15/11 0:02</td>\n    </tr>\n    <tr>\n      <th>1</th>\n      <td>21</td>\n      <td>1.0</td>\n      <td>Us Gov Vessel</td>\n      <td>Y</td>\n      <td>Unknown</td>\n      <td>Unknown</td>\n      <td>1.0</td>\n      <td>208.0</td>\n      <td>208.0</td>\n      <td>1.0</td>\n      <td>...</td>\n      <td>Us Gov Vessel</td>\n      <td>3</td>\n      <td>1</td>\n      <td>15.1</td>\n      <td>13.7</td>\n      <td>10.0</td>\n      <td>15.1</td>\n      <td>91.8</td>\n      <td>3/18/11 11:18</td>\n      <td>3/18/11 12:26</td>\n    </tr>\n    <tr>\n      <th>2</th>\n      <td>21</td>\n      <td>1.0</td>\n      <td>Us Gov Vessel</td>\n      <td>Y</td>\n      <td>Unknown</td>\n      <td>Unknown</td>\n      <td>1.0</td>\n      <td>208.0</td>\n      <td>208.0</td>\n      <td>1.0</td>\n      <td>...</td>\n      <td>Us Gov Vessel</td>\n      <td>4</td>\n      <td>1</td>\n      <td>18.0</td>\n      <td>9.7</td>\n      <td>4.6</td>\n      <td>15.2</td>\n      <td>76.3</td>\n      <td>4/25/11 16:37</td>\n      <td>4/25/11 18:25</td>\n    </tr>\n    <tr>\n      <th>3</th>\n      <td>21</td>\n      <td>1.0</td>\n      <td>Us Gov Vessel</td>\n      <td>Y</td>\n      <td>Unknown</td>\n      <td>Unknown</td>\n      <td>1.0</td>\n      <td>208.0</td>\n      <td>208.0</td>\n      <td>1.0</td>\n      <td>...</td>\n      <td>Us Gov Vessel</td>\n      <td>5</td>\n      <td>1</td>\n      <td>11.2</td>\n      <td>12.9</td>\n      <td>6.1</td>\n      <td>15.6</td>\n      <td>80.7</td>\n      <td>5/14/11 15:51</td>\n      <td>5/14/11 16:50</td>\n    </tr>\n    <tr>\n      <th>4</th>\n      <td>21</td>\n      <td>1.0</td>\n      <td>Us Gov Vessel</td>\n      <td>Y</td>\n      <td>Unknown</td>\n      <td>Unknown</td>\n      <td>1.0</td>\n      <td>208.0</td>\n      <td>208.0</td>\n      <td>1.0</td>\n      <td>...</td>\n      <td>Us Gov Vessel</td>\n      <td>6</td>\n      <td>1</td>\n      <td>5.8</td>\n      <td>16.5</td>\n      <td>15.1</td>\n      <td>17.4</td>\n      <td>100.0</td>\n      <td>5/19/11 12:34</td>\n      <td>5/19/11 12:56</td>\n    </tr>\n  </tbody>\n</table>\n<p>5 rows × 21 columns</p>\n</div>"
     },
     "execution_count": 20,
     "metadata": {},
     "output_type": "execute_result"
    }
   ],
   "source": [
    "mmsi_outer_join.head()"
   ],
   "metadata": {
    "collapsed": false,
    "ExecuteTime": {
     "end_time": "2023-09-07T22:38:12.717585009Z",
     "start_time": "2023-09-07T22:38:12.556471611Z"
    }
   },
   "id": "6c2651b47b27870"
  },
  {
   "cell_type": "markdown",
   "source": [
    "\n",
    "\n",
    "\n",
    "Drop all rows with missing element and compare. If the comparison is empty, then they are the same"
   ],
   "metadata": {
    "collapsed": false
   },
   "id": "e0b5a4985f619e0d"
  },
  {
   "cell_type": "code",
   "execution_count": 21,
   "outputs": [],
   "source": [
    "outer_join_without_missing = mmsi_outer_join.dropna()\n",
    "inner_join = pd.merge(vessel_information, transit_segments, on=\"mmsi\")"
   ],
   "metadata": {
    "collapsed": false,
    "ExecuteTime": {
     "end_time": "2023-09-07T22:38:12.744372212Z",
     "start_time": "2023-09-07T22:38:12.604526Z"
    }
   },
   "id": "67eb42e3224dfb51"
  },
  {
   "cell_type": "code",
   "execution_count": 22,
   "outputs": [
    {
     "data": {
      "text/plain": "True"
     },
     "execution_count": 22,
     "metadata": {},
     "output_type": "execute_result"
    }
   ],
   "source": [
    "outer_join_without_missing.compare(inner_join).empty"
   ],
   "metadata": {
    "collapsed": false,
    "ExecuteTime": {
     "end_time": "2023-09-07T22:38:12.893541779Z",
     "start_time": "2023-09-07T22:38:12.687143483Z"
    }
   },
   "id": "42ccf16e0c052b3a"
  }
 ],
 "metadata": {
  "kernelspec": {
   "display_name": "Python 3 (ipykernel)",
   "language": "python",
   "name": "python3"
  },
  "language_info": {
   "codemirror_mode": {
    "name": "ipython",
    "version": 3
   },
   "file_extension": ".py",
   "mimetype": "text/x-python",
   "name": "python",
   "nbconvert_exporter": "python",
   "pygments_lexer": "ipython3",
   "version": "3.9.13"
  }
 },
 "nbformat": 4,
 "nbformat_minor": 5
}
